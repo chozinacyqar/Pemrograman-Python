{
  "nbformat": 4,
  "nbformat_minor": 0,
  "metadata": {
    "colab": {
      "name": "Tugas12.ipynb",
      "provenance": [],
      "collapsed_sections": [],
      "include_colab_link": true
    },
    "kernelspec": {
      "name": "python3",
      "display_name": "Python 3"
    }
  },
  "cells": [
    {
      "cell_type": "markdown",
      "metadata": {
        "id": "view-in-github",
        "colab_type": "text"
      },
      "source": [
        "<a href=\"https://colab.research.google.com/github/chozinacyqar/Tugas_Python_10/blob/main/Tugas%2012%20Ojin.ipynb\" target=\"_parent\"><img src=\"https://colab.research.google.com/assets/colab-badge.svg\" alt=\"Open In Colab\"/></a>"
      ]
    },
    {
      "cell_type": "markdown",
      "metadata": {
        "id": "h3fFEtxDlng3"
      },
      "source": [
        "NAMA: Muhammad Irwan Zamroni\r\n",
        "\r\n",
        "NIM: 1101184363\r\n",
        "\r\n",
        "Kelas:TT-43-G10\r\n",
        "\r\n"
      ]
    },
    {
      "cell_type": "code",
      "metadata": {
        "id": "fb3AtO81VIj2"
      },
      "source": [
        "import numpy as np\r\n"
      ],
      "execution_count": null,
      "outputs": []
    },
    {
      "cell_type": "code",
      "metadata": {
        "colab": {
          "base_uri": "https://localhost:8080/"
        },
        "id": "Sux4N0h2pPd2",
        "outputId": "7a21e6b6-db3f-419e-b5d2-5cac7899f637"
      },
      "source": [
        "#fc= 150Mhz sd. 2000Mhz ===> saya menggunakan frekuensi 1000Mhz\r\n",
        "#hT = tinggi antenna pengirim dalam meter (range 30 s.d. 200 meter) ===> saya menggunakan range 200m\r\n",
        "#hR = tinggi antenna penerima dalam meter (range 1 s.d. 30 meter) ===> saya menggunakan frekuensi 20m\r\n",
        "#d = jarak antara pengirim dan penerima (dalam kilometer) ===> saya menggunakan 1km/1000m\r\n",
        "#nilai a(hR) dapat dihitung dengan persamaan\r\n",
        "#𝑎(ℎ𝑅 ) = {1,1 log(𝑓𝐶 ) − 0,7}ℎ𝑅 − {1,56 log(𝑓𝐶 ) − 0,8}\r\n",
        "# Cm nilainya berubah sesuai dengan tipe area\r\n",
        "\"\"\"\r\n",
        "#Daerah Urban, Cm = 0\r\n",
        "#Daerah Suburban, 𝐶𝑚 = −2 [𝑙𝑜𝑔 ( =======> sy menggunkan nilaiparameter dari suburban \r\n",
        "#Daerah open\r\n",
        "\"\"\"\r\n",
        "\r\n"
      ],
      "execution_count": null,
      "outputs": [
        {
          "output_type": "stream",
          "text": [
            "-18.29641513138936\n"
          ],
          "name": "stdout"
        }
      ]
    },
    {
      "cell_type": "code",
      "metadata": {
        "id": "cb9ES0ogsS47"
      },
      "source": [
        "#nilai a(hR)\r\n",
        "ahR= lambda z,d: 1.1*np.log(z)-0.7*(d)-1.56*np.log(z)-0.8\r\n"
      ],
      "execution_count": null,
      "outputs": []
    },
    {
      "cell_type": "code",
      "metadata": {
        "colab": {
          "base_uri": "https://localhost:8080/"
        },
        "id": "oy288sxkswxL",
        "outputId": "406da124-0e49-40e6-97b7-1dfd0c11d8b2"
      },
      "source": [
        "c= ahR(1000,20)\r\n",
        "print(c)"
      ],
      "execution_count": null,
      "outputs": [
        {
          "output_type": "stream",
          "text": [
            "-17.977567428331785\n"
          ],
          "name": "stdout"
        }
      ]
    },
    {
      "cell_type": "code",
      "metadata": {
        "id": "VSkrhMPfzzTl"
      },
      "source": [
        "#logaritmik to numerik\r\n",
        "NtL= lambda b: 10*np.log10(b)"
      ],
      "execution_count": null,
      "outputs": []
    },
    {
      "cell_type": "code",
      "metadata": {
        "colab": {
          "base_uri": "https://localhost:8080/"
        },
        "id": "lwzP-_LJs-mb",
        "outputId": "554e2fbc-87ea-426d-f5d9-3b2c52376d1a"
      },
      "source": [
        "j= NtL(1000)\r\n",
        "print(j)"
      ],
      "execution_count": null,
      "outputs": [
        {
          "output_type": "stream",
          "text": [
            "30.0\n"
          ],
          "name": "stdout"
        }
      ]
    },
    {
      "cell_type": "code",
      "metadata": {
        "id": "zBWg9myiEcTf"
      },
      "source": [
        "#Numerik to logaritmik\r\n",
        "LtN= lambda h: 10**(h/10)"
      ],
      "execution_count": null,
      "outputs": []
    },
    {
      "cell_type": "code",
      "metadata": {
        "id": "mmEvkVP24Wmk"
      },
      "source": [
        "#Nilai Daerah SubUrban\r\n",
        "dsub= lambda r: -2*(np.log(r/28)**2) - (5.4)"
      ],
      "execution_count": null,
      "outputs": []
    },
    {
      "cell_type": "code",
      "metadata": {
        "colab": {
          "base_uri": "https://localhost:8080/"
        },
        "id": "hauQjOKn4yiP",
        "outputId": "0e74c61d-6d9c-4bc8-d163-f55805cd8ad8"
      },
      "source": [
        "Dsub=dsub(1000)\r\n",
        "print(Dsub)"
      ],
      "execution_count": null,
      "outputs": [
        {
          "output_type": "stream",
          "text": [
            "-30.969126600631697\n"
          ],
          "name": "stdout"
        }
      ]
    },
    {
      "cell_type": "code",
      "metadata": {
        "id": "C6VyZBoUE5r4"
      },
      "source": [
        "#nilai Daerah Urban\r\n",
        "Urban=0"
      ],
      "execution_count": null,
      "outputs": []
    },
    {
      "cell_type": "code",
      "metadata": {
        "id": "6bOChbva4_rg"
      },
      "source": [
        "#Nilai Daerah Open\r\n",
        "DoP= lambda r: -4.78*log(r)**2+18.33*log(r) - 40.94"
      ],
      "execution_count": null,
      "outputs": []
    },
    {
      "cell_type": "code",
      "metadata": {
        "colab": {
          "base_uri": "https://localhost:8080/"
        },
        "id": "n1pk1YmM5kUL",
        "outputId": "da47e82f-8ade-47f6-df9a-62539001f378"
      },
      "source": [
        "d= DoP(1000)\r\n",
        "print(d)"
      ],
      "execution_count": null,
      "outputs": [
        {
          "output_type": "stream",
          "text": [
            "-142.4085024490381\n"
          ],
          "name": "stdout"
        }
      ]
    },
    {
      "cell_type": "code",
      "metadata": {
        "id": "264851rZ67E9"
      },
      "source": [
        "def ploss(m,k,j,o,l):\r\n",
        "  pldb= m+k*np.log(j) - 13.83*np.log(o)-c+(44.9-6.55*np.log(o))*log(l)+Dsub\r\n",
        "  plnum=LtN(-pldb)\r\n",
        "  return (pldb,plnum)\r\n"
      ],
      "execution_count": null,
      "outputs": []
    },
    {
      "cell_type": "code",
      "metadata": {
        "colab": {
          "base_uri": "https://localhost:8080/"
        },
        "id": "Rl8dnIQQFYMa",
        "outputId": "e00858b2-3008-41d5-baf3-ebb5aec3070f"
      },
      "source": [
        "pathlossdb,pathlossnum = ploss(69.55,26.16,1000,200,1000)\n",
        "print('pathlossdb=',pathlossdb,\"db\")\n",
        "print('pathlossnum=',pathlossnum,\"kali\")"
      ],
      "execution_count": null,
      "outputs": [
        {
          "output_type": "stream",
          "text": [
            "pathlossdb= 234.42120935466954 db\n",
            "pathlossnum= 3.61309236941083e-24 kali\n"
          ],
          "name": "stdout"
        }
      ]
    }
  ]
}